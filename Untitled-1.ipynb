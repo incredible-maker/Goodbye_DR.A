{
 "cells": [
  {
   "cell_type": "code",
   "execution_count": 2,
   "metadata": {
    "vscode": {
     "languageId": "r"
    }
   },
   "outputs": [
    {
     "name": "stderr",
     "output_type": "stream",
     "text": [
      "Installing package into ‘/home/jacky/R/x86_64-pc-linux-gnu-library/3.6’\n",
      "(as ‘lib’ is unspecified)\n",
      "\n",
      "'getOption(\"repos\")' replaces Bioconductor standard repositories, see\n",
      "'help(\"repositories\", package = \"BiocManager\")' for details.\n",
      "Replacement repositories:\n",
      "    CRAN: https://cloud.r-project.org\n",
      "\n",
      "Bioconductor version 3.10 (BiocManager 1.30.21), R 3.6.3 (2020-02-29)\n",
      "\n",
      "Installing package(s) 'DropletUtils'\n",
      "\n",
      "Installation paths not writeable, unable to update packages\n",
      "  path: /usr/lib/R/library\n",
      "  packages:\n",
      "    boot, class, cluster, codetools, KernSmooth, mgcv, nlme, nnet, rpart,\n",
      "    spatial, survival\n",
      "  path: /usr/lib/R/site-library\n",
      "  packages:\n",
      "    Cairo\n",
      "  path: /usr/local/lib/R/site-library\n",
      "  packages:\n",
      "    ade4, ape, BH, BiocManager, blob, broom, bslib, cachem, checkmate, cli,\n",
      "    clue, colorspace, commonmark, covr, curl, data.table, dbplyr, deldir,\n",
      "    digest, dplyr, DT, dtplyr, evaluate, fansi, fastmap, fitdistrplus, FNN,\n",
      "    fontawesome, forcats, Formula, fs, future, future.apply, gargle, gdata,\n",
      "    ggbeeswarm, ggnewscale, ggplot2, ggplotify, ggrepel, gh, git2r,\n",
      "    googledrive, googlesheets4, graphlayouts, gtable, haven, hdf5r, hexbin,\n",
      "    hms, htmltools, htmlwidgets, httpuv, httr, igraph, jsonlite, knitr, later,\n",
      "    lubridate, markdown, Matrix, matrixStats, modelr, mvtnorm, openssl,\n",
      "    pbapply, pillar, pkgbuild, plotly, processx, profvis, ps, Rcpp,\n",
      "    RcppArmadillo, RcppNumerical, RcppTOML, RCurl, readr, readxl, reticulate,\n",
      "    rmarkdown, RSQLite, sass, scattermore, sourcetools, spatstat,\n",
      "    spatstat.data, spatstat.explore, spatstat.geom, spatstat.linnet,\n",
      "    spatstat.model, spatstat.random, spatstat.sparse, spatstat.utils, sys,\n",
      "    testthat, tibble, tidygraph, tidyr, tidyverse, tinytex, triebeard, tzdb,\n",
      "    utf8, uwot, vctrs, viridis, viridisLite, vroom, waldo, xfun, xml2, yaml,\n",
      "    zip, zoo\n",
      "\n",
      "Old packages: 'parallelly', 'rlang', 'sp', 'styler'\n",
      "\n"
     ]
    }
   ],
   "source": [
    "#install packages DropletUtils\n",
    "install.packages(\"BiocManager\")\n",
    "BiocManager::install(\"DropletUtils\")"
   ]
  },
  {
   "cell_type": "code",
   "execution_count": 3,
   "metadata": {
    "vscode": {
     "languageId": "r"
    }
   },
   "outputs": [
    {
     "name": "stderr",
     "output_type": "stream",
     "text": [
      "Loading required package: SingleCellExperiment\n",
      "\n"
     ]
    }
   ],
   "source": [
    "library(DropletUtils)"
   ]
  },
  {
   "cell_type": "code",
   "execution_count": 4,
   "metadata": {
    "vscode": {
     "languageId": "r"
    }
   },
   "outputs": [
    {
     "ename": "ERROR",
     "evalue": "Error in .read_from_hdf5(run, genome = genome, version = version): more than one available group (barcode_info, features)\n",
     "output_type": "error",
     "traceback": [
      "Error in .read_from_hdf5(run, genome = genome, version = version): more than one available group (barcode_info, features)\nTraceback:\n",
      "1. read10xCounts(\"/wrk/jacky/organoid/counts/CRISPR_counts/outs/molecule_info.h5\")",
      "2. .read_from_hdf5(run, genome = genome, version = version)",
      "3. stop(\"more than one available group (\", paste(to.see, collapse = \", \"), \n .     \")\")"
     ]
    }
   ],
   "source": [
    "#/wrk/jacky/organoid/counts/CRISPR_counts/outs/molecule_info.h5\n",
    "\n",
    "#open the file\n",
    "counts <- read10xCounts(\"/wrk/jacky/organoid/counts/CRISPR_counts/outs/molecule_info.h5\")"
   ]
  }
 ],
 "metadata": {
  "kernelspec": {
   "display_name": "R",
   "language": "R",
   "name": "ir"
  },
  "language_info": {
   "codemirror_mode": "r",
   "file_extension": ".r",
   "mimetype": "text/x-r-source",
   "name": "R",
   "pygments_lexer": "r",
   "version": "3.6.3"
  },
  "orig_nbformat": 4
 },
 "nbformat": 4,
 "nbformat_minor": 2
}
